{
 "cells": [
  {
   "cell_type": "code",
   "execution_count": 1,
   "id": "f78eefb6-9879-4a11-8791-bf801175b70e",
   "metadata": {},
   "outputs": [
    {
     "name": "stdout",
     "output_type": "stream",
     "text": [
      "Requirement already satisfied: numpy in c:\\python313\\lib\\site-packages (2.2.5)\n",
      "Requirement already satisfied: pandas in c:\\python313\\lib\\site-packages (2.2.3)\n",
      "Requirement already satisfied: matplotlib in c:\\python313\\lib\\site-packages (3.10.1)\n",
      "Requirement already satisfied: python-dateutil>=2.8.2 in c:\\users\\andut\\appdata\\roaming\\python\\python313\\site-packages (from pandas) (2.9.0.post0)\n",
      "Requirement already satisfied: pytz>=2020.1 in c:\\python313\\lib\\site-packages (from pandas) (2025.2)\n",
      "Requirement already satisfied: tzdata>=2022.7 in c:\\python313\\lib\\site-packages (from pandas) (2025.2)\n",
      "Requirement already satisfied: contourpy>=1.0.1 in c:\\python313\\lib\\site-packages (from matplotlib) (1.3.2)\n",
      "Requirement already satisfied: cycler>=0.10 in c:\\python313\\lib\\site-packages (from matplotlib) (0.12.1)\n",
      "Requirement already satisfied: fonttools>=4.22.0 in c:\\python313\\lib\\site-packages (from matplotlib) (4.57.0)\n",
      "Requirement already satisfied: kiwisolver>=1.3.1 in c:\\python313\\lib\\site-packages (from matplotlib) (1.4.8)\n",
      "Requirement already satisfied: packaging>=20.0 in c:\\users\\andut\\appdata\\roaming\\python\\python313\\site-packages (from matplotlib) (25.0)\n",
      "Requirement already satisfied: pillow>=8 in c:\\python313\\lib\\site-packages (from matplotlib) (11.2.1)\n",
      "Requirement already satisfied: pyparsing>=2.3.1 in c:\\python313\\lib\\site-packages (from matplotlib) (3.2.3)\n",
      "Requirement already satisfied: six>=1.5 in c:\\users\\andut\\appdata\\roaming\\python\\python313\\site-packages (from python-dateutil>=2.8.2->pandas) (1.17.0)\n"
     ]
    }
   ],
   "source": [
    "!pip install numpy pandas matplotlib\n",
    "\n",
    "import numpy as np\n",
    "import pandas as pd\n",
    "import matplotlib.pyplot as plt\n",
    "import copy"
   ]
  },
  {
   "cell_type": "markdown",
   "id": "a2532aff-6f39-4a23-83bb-aaf3a343ba84",
   "metadata": {},
   "source": [
    "### Data preprocessing\n"
   ]
  },
  {
   "cell_type": "code",
   "execution_count": 173,
   "id": "06015e3e-5c09-4c13-971e-752c475bcdb2",
   "metadata": {},
   "outputs": [],
   "source": [
    "data = pd.read_csv('data.csv')"
   ]
  },
  {
   "cell_type": "code",
   "execution_count": 174,
   "id": "76023373-5307-4e19-8c5e-9d275740799b",
   "metadata": {},
   "outputs": [
    {
     "data": {
      "text/html": [
       "<div>\n",
       "<style scoped>\n",
       "    .dataframe tbody tr th:only-of-type {\n",
       "        vertical-align: middle;\n",
       "    }\n",
       "\n",
       "    .dataframe tbody tr th {\n",
       "        vertical-align: top;\n",
       "    }\n",
       "\n",
       "    .dataframe thead th {\n",
       "        text-align: right;\n",
       "    }\n",
       "</style>\n",
       "<table border=\"1\" class=\"dataframe\">\n",
       "  <thead>\n",
       "    <tr style=\"text-align: right;\">\n",
       "      <th></th>\n",
       "      <th>date</th>\n",
       "      <th>price</th>\n",
       "      <th>bedrooms</th>\n",
       "      <th>bathrooms</th>\n",
       "      <th>sqft_living</th>\n",
       "      <th>sqft_lot</th>\n",
       "      <th>floors</th>\n",
       "      <th>waterfront</th>\n",
       "      <th>view</th>\n",
       "      <th>condition</th>\n",
       "      <th>sqft_above</th>\n",
       "      <th>sqft_basement</th>\n",
       "      <th>yr_built</th>\n",
       "      <th>yr_renovated</th>\n",
       "      <th>street</th>\n",
       "      <th>city</th>\n",
       "      <th>statezip</th>\n",
       "      <th>country</th>\n",
       "    </tr>\n",
       "  </thead>\n",
       "  <tbody>\n",
       "    <tr>\n",
       "      <th>0</th>\n",
       "      <td>2014-05-02 00:00:00</td>\n",
       "      <td>3.130000e+05</td>\n",
       "      <td>3.0</td>\n",
       "      <td>1.50</td>\n",
       "      <td>1340</td>\n",
       "      <td>7912</td>\n",
       "      <td>1.5</td>\n",
       "      <td>0</td>\n",
       "      <td>0</td>\n",
       "      <td>3</td>\n",
       "      <td>1340</td>\n",
       "      <td>0</td>\n",
       "      <td>1955</td>\n",
       "      <td>2005</td>\n",
       "      <td>18810 Densmore Ave N</td>\n",
       "      <td>Shoreline</td>\n",
       "      <td>WA 98133</td>\n",
       "      <td>USA</td>\n",
       "    </tr>\n",
       "    <tr>\n",
       "      <th>1</th>\n",
       "      <td>2014-05-02 00:00:00</td>\n",
       "      <td>2.384000e+06</td>\n",
       "      <td>5.0</td>\n",
       "      <td>2.50</td>\n",
       "      <td>3650</td>\n",
       "      <td>9050</td>\n",
       "      <td>2.0</td>\n",
       "      <td>0</td>\n",
       "      <td>4</td>\n",
       "      <td>5</td>\n",
       "      <td>3370</td>\n",
       "      <td>280</td>\n",
       "      <td>1921</td>\n",
       "      <td>0</td>\n",
       "      <td>709 W Blaine St</td>\n",
       "      <td>Seattle</td>\n",
       "      <td>WA 98119</td>\n",
       "      <td>USA</td>\n",
       "    </tr>\n",
       "    <tr>\n",
       "      <th>2</th>\n",
       "      <td>2014-05-02 00:00:00</td>\n",
       "      <td>3.420000e+05</td>\n",
       "      <td>3.0</td>\n",
       "      <td>2.00</td>\n",
       "      <td>1930</td>\n",
       "      <td>11947</td>\n",
       "      <td>1.0</td>\n",
       "      <td>0</td>\n",
       "      <td>0</td>\n",
       "      <td>4</td>\n",
       "      <td>1930</td>\n",
       "      <td>0</td>\n",
       "      <td>1966</td>\n",
       "      <td>0</td>\n",
       "      <td>26206-26214 143rd Ave SE</td>\n",
       "      <td>Kent</td>\n",
       "      <td>WA 98042</td>\n",
       "      <td>USA</td>\n",
       "    </tr>\n",
       "    <tr>\n",
       "      <th>3</th>\n",
       "      <td>2014-05-02 00:00:00</td>\n",
       "      <td>4.200000e+05</td>\n",
       "      <td>3.0</td>\n",
       "      <td>2.25</td>\n",
       "      <td>2000</td>\n",
       "      <td>8030</td>\n",
       "      <td>1.0</td>\n",
       "      <td>0</td>\n",
       "      <td>0</td>\n",
       "      <td>4</td>\n",
       "      <td>1000</td>\n",
       "      <td>1000</td>\n",
       "      <td>1963</td>\n",
       "      <td>0</td>\n",
       "      <td>857 170th Pl NE</td>\n",
       "      <td>Bellevue</td>\n",
       "      <td>WA 98008</td>\n",
       "      <td>USA</td>\n",
       "    </tr>\n",
       "    <tr>\n",
       "      <th>4</th>\n",
       "      <td>2014-05-02 00:00:00</td>\n",
       "      <td>5.500000e+05</td>\n",
       "      <td>4.0</td>\n",
       "      <td>2.50</td>\n",
       "      <td>1940</td>\n",
       "      <td>10500</td>\n",
       "      <td>1.0</td>\n",
       "      <td>0</td>\n",
       "      <td>0</td>\n",
       "      <td>4</td>\n",
       "      <td>1140</td>\n",
       "      <td>800</td>\n",
       "      <td>1976</td>\n",
       "      <td>1992</td>\n",
       "      <td>9105 170th Ave NE</td>\n",
       "      <td>Redmond</td>\n",
       "      <td>WA 98052</td>\n",
       "      <td>USA</td>\n",
       "    </tr>\n",
       "    <tr>\n",
       "      <th>...</th>\n",
       "      <td>...</td>\n",
       "      <td>...</td>\n",
       "      <td>...</td>\n",
       "      <td>...</td>\n",
       "      <td>...</td>\n",
       "      <td>...</td>\n",
       "      <td>...</td>\n",
       "      <td>...</td>\n",
       "      <td>...</td>\n",
       "      <td>...</td>\n",
       "      <td>...</td>\n",
       "      <td>...</td>\n",
       "      <td>...</td>\n",
       "      <td>...</td>\n",
       "      <td>...</td>\n",
       "      <td>...</td>\n",
       "      <td>...</td>\n",
       "      <td>...</td>\n",
       "    </tr>\n",
       "    <tr>\n",
       "      <th>4595</th>\n",
       "      <td>2014-07-09 00:00:00</td>\n",
       "      <td>3.081667e+05</td>\n",
       "      <td>3.0</td>\n",
       "      <td>1.75</td>\n",
       "      <td>1510</td>\n",
       "      <td>6360</td>\n",
       "      <td>1.0</td>\n",
       "      <td>0</td>\n",
       "      <td>0</td>\n",
       "      <td>4</td>\n",
       "      <td>1510</td>\n",
       "      <td>0</td>\n",
       "      <td>1954</td>\n",
       "      <td>1979</td>\n",
       "      <td>501 N 143rd St</td>\n",
       "      <td>Seattle</td>\n",
       "      <td>WA 98133</td>\n",
       "      <td>USA</td>\n",
       "    </tr>\n",
       "    <tr>\n",
       "      <th>4596</th>\n",
       "      <td>2014-07-09 00:00:00</td>\n",
       "      <td>5.343333e+05</td>\n",
       "      <td>3.0</td>\n",
       "      <td>2.50</td>\n",
       "      <td>1460</td>\n",
       "      <td>7573</td>\n",
       "      <td>2.0</td>\n",
       "      <td>0</td>\n",
       "      <td>0</td>\n",
       "      <td>3</td>\n",
       "      <td>1460</td>\n",
       "      <td>0</td>\n",
       "      <td>1983</td>\n",
       "      <td>2009</td>\n",
       "      <td>14855 SE 10th Pl</td>\n",
       "      <td>Bellevue</td>\n",
       "      <td>WA 98007</td>\n",
       "      <td>USA</td>\n",
       "    </tr>\n",
       "    <tr>\n",
       "      <th>4597</th>\n",
       "      <td>2014-07-09 00:00:00</td>\n",
       "      <td>4.169042e+05</td>\n",
       "      <td>3.0</td>\n",
       "      <td>2.50</td>\n",
       "      <td>3010</td>\n",
       "      <td>7014</td>\n",
       "      <td>2.0</td>\n",
       "      <td>0</td>\n",
       "      <td>0</td>\n",
       "      <td>3</td>\n",
       "      <td>3010</td>\n",
       "      <td>0</td>\n",
       "      <td>2009</td>\n",
       "      <td>0</td>\n",
       "      <td>759 Ilwaco Pl NE</td>\n",
       "      <td>Renton</td>\n",
       "      <td>WA 98059</td>\n",
       "      <td>USA</td>\n",
       "    </tr>\n",
       "    <tr>\n",
       "      <th>4598</th>\n",
       "      <td>2014-07-10 00:00:00</td>\n",
       "      <td>2.034000e+05</td>\n",
       "      <td>4.0</td>\n",
       "      <td>2.00</td>\n",
       "      <td>2090</td>\n",
       "      <td>6630</td>\n",
       "      <td>1.0</td>\n",
       "      <td>0</td>\n",
       "      <td>0</td>\n",
       "      <td>3</td>\n",
       "      <td>1070</td>\n",
       "      <td>1020</td>\n",
       "      <td>1974</td>\n",
       "      <td>0</td>\n",
       "      <td>5148 S Creston St</td>\n",
       "      <td>Seattle</td>\n",
       "      <td>WA 98178</td>\n",
       "      <td>USA</td>\n",
       "    </tr>\n",
       "    <tr>\n",
       "      <th>4599</th>\n",
       "      <td>2014-07-10 00:00:00</td>\n",
       "      <td>2.206000e+05</td>\n",
       "      <td>3.0</td>\n",
       "      <td>2.50</td>\n",
       "      <td>1490</td>\n",
       "      <td>8102</td>\n",
       "      <td>2.0</td>\n",
       "      <td>0</td>\n",
       "      <td>0</td>\n",
       "      <td>4</td>\n",
       "      <td>1490</td>\n",
       "      <td>0</td>\n",
       "      <td>1990</td>\n",
       "      <td>0</td>\n",
       "      <td>18717 SE 258th St</td>\n",
       "      <td>Covington</td>\n",
       "      <td>WA 98042</td>\n",
       "      <td>USA</td>\n",
       "    </tr>\n",
       "  </tbody>\n",
       "</table>\n",
       "<p>4600 rows × 18 columns</p>\n",
       "</div>"
      ],
      "text/plain": [
       "                     date         price  bedrooms  bathrooms  sqft_living  \\\n",
       "0     2014-05-02 00:00:00  3.130000e+05       3.0       1.50         1340   \n",
       "1     2014-05-02 00:00:00  2.384000e+06       5.0       2.50         3650   \n",
       "2     2014-05-02 00:00:00  3.420000e+05       3.0       2.00         1930   \n",
       "3     2014-05-02 00:00:00  4.200000e+05       3.0       2.25         2000   \n",
       "4     2014-05-02 00:00:00  5.500000e+05       4.0       2.50         1940   \n",
       "...                   ...           ...       ...        ...          ...   \n",
       "4595  2014-07-09 00:00:00  3.081667e+05       3.0       1.75         1510   \n",
       "4596  2014-07-09 00:00:00  5.343333e+05       3.0       2.50         1460   \n",
       "4597  2014-07-09 00:00:00  4.169042e+05       3.0       2.50         3010   \n",
       "4598  2014-07-10 00:00:00  2.034000e+05       4.0       2.00         2090   \n",
       "4599  2014-07-10 00:00:00  2.206000e+05       3.0       2.50         1490   \n",
       "\n",
       "      sqft_lot  floors  waterfront  view  condition  sqft_above  \\\n",
       "0         7912     1.5           0     0          3        1340   \n",
       "1         9050     2.0           0     4          5        3370   \n",
       "2        11947     1.0           0     0          4        1930   \n",
       "3         8030     1.0           0     0          4        1000   \n",
       "4        10500     1.0           0     0          4        1140   \n",
       "...        ...     ...         ...   ...        ...         ...   \n",
       "4595      6360     1.0           0     0          4        1510   \n",
       "4596      7573     2.0           0     0          3        1460   \n",
       "4597      7014     2.0           0     0          3        3010   \n",
       "4598      6630     1.0           0     0          3        1070   \n",
       "4599      8102     2.0           0     0          4        1490   \n",
       "\n",
       "      sqft_basement  yr_built  yr_renovated                    street  \\\n",
       "0                 0      1955          2005      18810 Densmore Ave N   \n",
       "1               280      1921             0           709 W Blaine St   \n",
       "2                 0      1966             0  26206-26214 143rd Ave SE   \n",
       "3              1000      1963             0           857 170th Pl NE   \n",
       "4               800      1976          1992         9105 170th Ave NE   \n",
       "...             ...       ...           ...                       ...   \n",
       "4595              0      1954          1979            501 N 143rd St   \n",
       "4596              0      1983          2009          14855 SE 10th Pl   \n",
       "4597              0      2009             0          759 Ilwaco Pl NE   \n",
       "4598           1020      1974             0         5148 S Creston St   \n",
       "4599              0      1990             0         18717 SE 258th St   \n",
       "\n",
       "           city  statezip country  \n",
       "0     Shoreline  WA 98133     USA  \n",
       "1       Seattle  WA 98119     USA  \n",
       "2          Kent  WA 98042     USA  \n",
       "3      Bellevue  WA 98008     USA  \n",
       "4       Redmond  WA 98052     USA  \n",
       "...         ...       ...     ...  \n",
       "4595    Seattle  WA 98133     USA  \n",
       "4596   Bellevue  WA 98007     USA  \n",
       "4597     Renton  WA 98059     USA  \n",
       "4598    Seattle  WA 98178     USA  \n",
       "4599  Covington  WA 98042     USA  \n",
       "\n",
       "[4600 rows x 18 columns]"
      ]
     },
     "execution_count": 174,
     "metadata": {},
     "output_type": "execute_result"
    }
   ],
   "source": [
    "data"
   ]
  },
  {
   "cell_type": "code",
   "execution_count": 198,
   "id": "bda3903d-1496-4b42-8ac2-c2119d0ce191",
   "metadata": {},
   "outputs": [],
   "source": [
    "y_data = data['price']\n",
    "x_data = data['sqft_living']"
   ]
  },
  {
   "cell_type": "code",
   "execution_count": 199,
   "id": "698be253-c03d-4b0a-aef0-a007ce560eed",
   "metadata": {},
   "outputs": [
    {
     "data": {
      "text/plain": [
       "0       1340\n",
       "1       3650\n",
       "2       1930\n",
       "3       2000\n",
       "4       1940\n",
       "        ... \n",
       "4595    1510\n",
       "4596    1460\n",
       "4597    3010\n",
       "4598    2090\n",
       "4599    1490\n",
       "Name: sqft_living, Length: 4600, dtype: int64"
      ]
     },
     "execution_count": 199,
     "metadata": {},
     "output_type": "execute_result"
    }
   ],
   "source": [
    "x_data"
   ]
  },
  {
   "cell_type": "code",
   "execution_count": 200,
   "id": "ef84e384-7e3b-46ee-862d-02ffad352a61",
   "metadata": {},
   "outputs": [
    {
     "data": {
      "text/plain": [
       "0       3.130000e+05\n",
       "1       2.384000e+06\n",
       "2       3.420000e+05\n",
       "3       4.200000e+05\n",
       "4       5.500000e+05\n",
       "            ...     \n",
       "4595    3.081667e+05\n",
       "4596    5.343333e+05\n",
       "4597    4.169042e+05\n",
       "4598    2.034000e+05\n",
       "4599    2.206000e+05\n",
       "Name: price, Length: 4600, dtype: float64"
      ]
     },
     "execution_count": 200,
     "metadata": {},
     "output_type": "execute_result"
    }
   ],
   "source": [
    "y_data"
   ]
  },
  {
   "cell_type": "code",
   "execution_count": 201,
   "id": "bfc3260a-79d7-40fc-867a-ac6c85ce3cbb",
   "metadata": {},
   "outputs": [
    {
     "data": {
      "text/plain": [
       "(4600, 4600)"
      ]
     },
     "execution_count": 201,
     "metadata": {},
     "output_type": "execute_result"
    }
   ],
   "source": [
    "len(x_data), len(y_data)"
   ]
  },
  {
   "cell_type": "code",
   "execution_count": null,
   "id": "c1d23c7d-60c7-4753-a1a0-587640eb3014",
   "metadata": {},
   "outputs": [],
   "source": []
  },
  {
   "cell_type": "code",
   "execution_count": null,
   "id": "a3f998aa-37a5-45e1-9f4d-b005cc0594d5",
   "metadata": {},
   "outputs": [],
   "source": []
  },
  {
   "cell_type": "code",
   "execution_count": 202,
   "id": "2a95565b-4234-4cbf-a899-7b8863232194",
   "metadata": {},
   "outputs": [],
   "source": [
    "def train_validation_split(x, y, validation_size=0.2, random_state=None):\n",
    "    x_validation = x.sample(frac=validation_size, random_state = random_state)\n",
    "    y_validation = y[x_validation.index]\n",
    "\n",
    "    x_train = x.drop(x_validation.index)\n",
    "    y_train = y.drop(y_validation.index)\n",
    "    return np.array(x_train), np.array(y_train), np.array(x_validation), np.array(y_validation)"
   ]
  },
  {
   "cell_type": "code",
   "execution_count": 203,
   "id": "1266e440-c271-4164-8f60-9d2645d33551",
   "metadata": {},
   "outputs": [],
   "source": [
    "x_train, y_train, x_validation, y_validation = train_validation_split(x_data, y_data, validation_size = 0.2, random_state = 0) "
   ]
  },
  {
   "cell_type": "code",
   "execution_count": 204,
   "id": "c7604456-0898-4175-bdfc-1d78da33498a",
   "metadata": {},
   "outputs": [
    {
     "data": {
      "text/plain": [
       "(3680, 3680)"
      ]
     },
     "execution_count": 204,
     "metadata": {},
     "output_type": "execute_result"
    }
   ],
   "source": [
    "len(x_train), len(y_train)"
   ]
  },
  {
   "cell_type": "code",
   "execution_count": 205,
   "id": "540f0fce-ecf6-4633-b842-2cb5440b4219",
   "metadata": {},
   "outputs": [
    {
     "data": {
      "text/plain": [
       "(920, 920)"
      ]
     },
     "execution_count": 205,
     "metadata": {},
     "output_type": "execute_result"
    }
   ],
   "source": [
    "len(x_validation), len(y_validation)"
   ]
  },
  {
   "cell_type": "code",
   "execution_count": 206,
   "id": "49d6b692-7a95-4505-bb3c-873ac25012d4",
   "metadata": {},
   "outputs": [
    {
     "data": {
      "text/plain": [
       "array([1340, 1930, 2000, ..., 3010, 2090, 1490], shape=(3680,))"
      ]
     },
     "execution_count": 206,
     "metadata": {},
     "output_type": "execute_result"
    }
   ],
   "source": [
    "x_train"
   ]
  },
  {
   "cell_type": "code",
   "execution_count": 207,
   "id": "8fda6904-092f-4630-b8dc-c0fde0a7938d",
   "metadata": {},
   "outputs": [
    {
     "data": {
      "text/plain": [
       "<matplotlib.collections.PathCollection at 0x246942e4cd0>"
      ]
     },
     "execution_count": 207,
     "metadata": {},
     "output_type": "execute_result"
    },
    {
     "data": {
      "image/png": "[encoded data removed]",
      "text/plain": [
       "<Figure size 640x480 with 1 Axes>"
      ]
     },
     "metadata": {},
     "output_type": "display_data"
    }
   ],
   "source": [
    "plt.scatter(x_train, y_train)"
   ]
  },
  {
   "cell_type": "code",
   "execution_count": null,
   "id": "8aa87656-7677-419c-897e-62fab0eb11d8",
   "metadata": {},
   "outputs": [],
   "source": []
  },
  {
   "cell_type": "code",
   "execution_count": null,
   "id": "1b0f8aff-c1c3-497c-9394-760d7f8dfb0a",
   "metadata": {},
   "outputs": [],
   "source": []
  },
  {
   "cell_type": "code",
   "execution_count": 208,
   "id": "676d2eca-2c0e-4ab0-9bb7-b2bc35118d35",
   "metadata": {},
   "outputs": [
    {
     "data": {
      "text/plain": [
       "array([1340, 1930, 2000, ..., 3010, 2090, 1490], shape=(3680,))"
      ]
     },
     "execution_count": 208,
     "metadata": {},
     "output_type": "execute_result"
    }
   ],
   "source": [
    "\n",
    "\n",
    "\n",
    "x_train"
   ]
  },
  {
   "cell_type": "code",
   "execution_count": 209,
   "id": "2d953b8e-1079-4efc-8998-6863530240c0",
   "metadata": {},
   "outputs": [
    {
     "data": {
      "text/plain": [
       "array([313000.      , 342000.      , 420000.      , ..., 416904.166667,\n",
       "       203400.      , 220600.      ], shape=(3680,))"
      ]
     },
     "execution_count": 209,
     "metadata": {},
     "output_type": "execute_result"
    }
   ],
   "source": [
    "y_train\n"
   ]
  },
  {
   "cell_type": "code",
   "execution_count": null,
   "id": "f9cdbb8c-2f61-420b-99b3-4f449e0b740f",
   "metadata": {},
   "outputs": [],
   "source": []
  },
  {
   "cell_type": "code",
   "execution_count": 211,
   "id": "4f861cb1-d425-4c77-8b5d-e0d7db7e15fb",
   "metadata": {},
   "outputs": [
    {
     "data": {
      "text/plain": [
       "(np.int64(1930), np.float64(342000.0))"
      ]
     },
     "execution_count": 211,
     "metadata": {},
     "output_type": "execute_result"
    }
   ],
   "source": [
    "x_train[1], y_train[1]\n"
   ]
  },
  {
   "cell_type": "code",
   "execution_count": 212,
   "id": "4877829d-059c-4dee-93fa-d49db81458b3",
   "metadata": {},
   "outputs": [
    {
     "data": {
      "text/plain": [
       "(3680, 3680)"
      ]
     },
     "execution_count": 212,
     "metadata": {},
     "output_type": "execute_result"
    }
   ],
   "source": [
    "len(x_train), len(y_train)"
   ]
  },
  {
   "cell_type": "code",
   "execution_count": 213,
   "id": "b392a681-43f0-44e7-b242-397f1a2cc84e",
   "metadata": {},
   "outputs": [
    {
     "data": {
      "text/plain": [
       "(array([1340, 1930, 2000, ..., 3010, 2090, 1490], shape=(3680,)),\n",
       " array([313000.      , 342000.      , 420000.      , ..., 416904.166667,\n",
       "        203400.      , 220600.      ], shape=(3680,)))"
      ]
     },
     "execution_count": 213,
     "metadata": {},
     "output_type": "execute_result"
    }
   ],
   "source": [
    "x_train, y_train"
   ]
  },
  {
   "cell_type": "code",
   "execution_count": 214,
   "id": "150015c5-938e-4d70-b0a3-433bef96468c",
   "metadata": {},
   "outputs": [
    {
     "data": {
      "image/png": "[encoded data removed]",
      "text/plain": [
       "<Figure size 640x480 with 1 Axes>"
      ]
     },
     "metadata": {},
     "output_type": "display_data"
    }
   ],
   "source": [
    "plt.scatter(x_train, y_train)\n",
    "plt.show()"
   ]
  },
  {
   "cell_type": "markdown",
   "id": "0089b674-be9a-4b57-bcd4-e554558f251d",
   "metadata": {},
   "source": [
    "### Train"
   ]
  },
  {
   "cell_type": "code",
   "execution_count": 242,
   "id": "d64208b0-ab9f-4c9a-9c85-fbad7518eeee",
   "metadata": {},
   "outputs": [],
   "source": [
    "def compute_cost(x, y, w, b):\n",
    "    m = x.shape[0] \n",
    "    cost = 0\n",
    "    for i in range(m):\n",
    "        f_wb = w * x[i] + b\n",
    "        cost += (f_wb - y[i])**2\n",
    "    return cost / (2 * m) "
   ]
  },
  {
   "cell_type": "code",
   "execution_count": 243,
   "id": "11f5e704-c136-4b24-8822-64e2c7a84b6e",
   "metadata": {},
   "outputs": [
    {
     "data": {
      "text/plain": [
       "np.float64(9174090955.0)"
      ]
     },
     "execution_count": 243,
     "metadata": {},
     "output_type": "execute_result"
    }
   ],
   "source": [
    "compute_cost(x_train, y_train, 0.5, 10)"
   ]
  },
  {
   "cell_type": "code",
   "execution_count": 244,
   "id": "2265297e-55a6-4110-90c1-cf52b8bc9542",
   "metadata": {},
   "outputs": [],
   "source": [
    "def compute_gradients(x, y, w,b):\n",
    "    m = x.shape[0]\n",
    "    dj_dw = 0\n",
    "    dj_db = 0\n",
    "    for i in range(0,m):\n",
    "        f_wb = w * x[i] + b\n",
    "        dj_dw += (f_wb - y[i]) * x[i]\n",
    "        dj_db += (f_wb - y[i])\n",
    "\n",
    "    dj_dw = dj_dw / m\n",
    "    dj_db = dj_db / m\n",
    "\n",
    "    return float(dj_dw), float(dj_db)"
   ]
  },
  {
   "cell_type": "code",
   "execution_count": 245,
   "id": "c2d65eab-0e80-461b-9344-b125675d22ca",
   "metadata": {},
   "outputs": [
    {
     "data": {
      "text/plain": [
       "(-9213136.0, -127359.0)"
      ]
     },
     "execution_count": 245,
     "metadata": {},
     "output_type": "execute_result"
    }
   ],
   "source": [
    "compute_gradients(x_train, y_train, w = 10, b = 1)"
   ]
  },
  {
   "cell_type": "code",
   "execution_count": 246,
   "id": "b96d4a23-3f22-4905-9a60-28877ba3d415",
   "metadata": {},
   "outputs": [],
   "source": [
    "def gradient_descent(x, y, w_in, b_in, alpha, num_iterations, cost_function, gradient_function):\n",
    "    w = copy.deepcopy(w_in) \n",
    "    b = copy.deepcopy(b_in)\n",
    "    J_history = []\n",
    "    for i in range(num_iterations):\n",
    "        dj_dw, dj_db = gradient_function(x, y, w, b)\n",
    "\n",
    "        w = w - alpha * dj_dw\n",
    "        b = b - alpha * dj_db\n",
    "        cost = cost_function(x, y, w, b)\n",
    "        J_history.append(cost)\n",
    "\n",
    "        print(f\"Iteration: {i} | Cost: {cost:.3e} | dj_dw: {dj_dw:.3e} | dj_db: {dj_db:.3e} | w: {w:.3e} | b: {b:.3e}\")\n",
    "    \n",
    "    print(f\"\\n(w, b) found by gradient descent ({w:.3e}, {b:.3e})\")\n",
    "    return w, b, J_history"
   ]
  },
  {
   "cell_type": "code",
   "execution_count": 256,
   "id": "b21fd645-a501-48dc-b3b2-589fbd1b0154",
   "metadata": {},
   "outputs": [
    {
     "name": "stdout",
     "output_type": "stream",
     "text": [
      "Iteration: 0 | Cost: 9.094e+09 | dj_dw: -9.260e+06 | dj_db: -1.280e+05 | w: 9.260e+00 | b: 1.280e-01\n",
      "Iteration: 1 | Cost: 9.010e+09 | dj_dw: -9.217e+06 | dj_db: -1.274e+05 | w: 1.848e+01 | b: 2.554e-01\n",
      "Iteration: 2 | Cost: 8.926e+09 | dj_dw: -9.174e+06 | dj_db: -1.268e+05 | w: 2.765e+01 | b: 3.822e-01\n",
      "Iteration: 3 | Cost: 8.843e+09 | dj_dw: -9.131e+06 | dj_db: -1.262e+05 | w: 3.678e+01 | b: 5.085e-01\n",
      "Iteration: 4 | Cost: 8.760e+09 | dj_dw: -9.088e+06 | dj_db: -1.256e+05 | w: 4.587e+01 | b: 6.341e-01\n",
      "Iteration: 5 | Cost: 8.678e+09 | dj_dw: -9.045e+06 | dj_db: -1.251e+05 | w: 5.491e+01 | b: 7.592e-01\n",
      "Iteration: 6 | Cost: 8.598e+09 | dj_dw: -9.003e+06 | dj_db: -1.245e+05 | w: 6.392e+01 | b: 8.836e-01\n",
      "Iteration: 7 | Cost: 8.517e+09 | dj_dw: -8.961e+06 | dj_db: -1.239e+05 | w: 7.288e+01 | b: 1.008e+00\n",
      "Iteration: 8 | Cost: 8.438e+09 | dj_dw: -8.919e+06 | dj_db: -1.233e+05 | w: 8.180e+01 | b: 1.131e+00\n",
      "Iteration: 9 | Cost: 8.359e+09 | dj_dw: -8.877e+06 | dj_db: -1.228e+05 | w: 9.067e+01 | b: 1.254e+00\n",
      "Iteration: 10 | Cost: 8.282e+09 | dj_dw: -8.836e+06 | dj_db: -1.222e+05 | w: 9.951e+01 | b: 1.376e+00\n",
      "Iteration: 11 | Cost: 8.204e+09 | dj_dw: -8.794e+06 | dj_db: -1.216e+05 | w: 1.083e+02 | b: 1.497e+00\n",
      "Iteration: 12 | Cost: 8.128e+09 | dj_dw: -8.753e+06 | dj_db: -1.211e+05 | w: 1.171e+02 | b: 1.619e+00\n",
      "Iteration: 13 | Cost: 8.052e+09 | dj_dw: -8.712e+06 | dj_db: -1.205e+05 | w: 1.258e+02 | b: 1.739e+00\n",
      "Iteration: 14 | Cost: 7.977e+09 | dj_dw: -8.671e+06 | dj_db: -1.199e+05 | w: 1.344e+02 | b: 1.859e+00\n",
      "Iteration: 15 | Cost: 7.903e+09 | dj_dw: -8.631e+06 | dj_db: -1.194e+05 | w: 1.431e+02 | b: 1.978e+00\n",
      "Iteration: 16 | Cost: 7.829e+09 | dj_dw: -8.590e+06 | dj_db: -1.188e+05 | w: 1.517e+02 | b: 2.097e+00\n",
      "Iteration: 17 | Cost: 7.756e+09 | dj_dw: -8.550e+06 | dj_db: -1.183e+05 | w: 1.602e+02 | b: 2.216e+00\n",
      "Iteration: 18 | Cost: 7.684e+09 | dj_dw: -8.510e+06 | dj_db: -1.177e+05 | w: 1.687e+02 | b: 2.333e+00\n",
      "Iteration: 19 | Cost: 7.612e+09 | dj_dw: -8.470e+06 | dj_db: -1.172e+05 | w: 1.772e+02 | b: 2.450e+00\n",
      "\n",
      "(w, b) found by gradient descent (1.772e+02, 2.450e+00)\n"
     ]
    }
   ],
   "source": [
    "w_init = 0\n",
    "b_init = 0\n",
    "iterations = 20\n",
    "alpha = 1.0e-6\n",
    "w_final, b_final, J_history = gradient_descent(x=x_train, y=y_train,alpha=alpha, num_iterations = iterations,w_in=w_init,b_in=b_init,cost_function=compute_cost,gradient_function=compute_gradients) "
   ]
  },
  {
   "cell_type": "markdown",
   "id": "b1a551a1-bde9-4d59-9bb5-073c443ec477",
   "metadata": {},
   "source": [
    "## Metrics"
   ]
  },
  {
   "cell_type": "code",
   "execution_count": 248,
   "id": "f7147540-b4fe-4dfc-ad04-f15fd518bffd",
   "metadata": {},
   "outputs": [
    {
     "data": {
      "text/plain": [
       "[np.float64(9154288870.07251),\n",
       " np.float64(9128649899.797138),\n",
       " np.float64(9103082886.653988),\n",
       " np.float64(9077587628.691538),\n",
       " np.float64(9052163924.525055),\n",
       " np.float64(9026811573.335003),\n",
       " np.float64(9001530374.865463),\n",
       " np.float64(8976320129.42254),\n",
       " np.float64(8951180637.872787),\n",
       " np.float64(8926111701.641647),\n",
       " np.float64(8901113122.711857),\n",
       " np.float64(8876184703.621916),\n",
       " np.float64(8851326247.464493),\n",
       " np.float64(8826537557.884907),\n",
       " np.float64(8801818439.079538),\n",
       " np.float64(8777168695.79431),\n",
       " np.float64(8752588133.32314),\n",
       " np.float64(8728076557.506388),\n",
       " np.float64(8703633774.729342),\n",
       " np.float64(8679259591.920675)]"
      ]
     },
     "execution_count": 248,
     "metadata": {},
     "output_type": "execute_result"
    }
   ],
   "source": [
    "J_history\n"
   ]
  },
  {
   "cell_type": "code",
   "execution_count": 249,
   "id": "a6a701ed-8d4e-4e69-97e2-ca0a0971a87b",
   "metadata": {},
   "outputs": [
    {
     "data": {
      "text/plain": [
       "Text(0.5, 1.0, 'Loss evolution')"
      ]
     },
     "execution_count": 249,
     "metadata": {},
     "output_type": "execute_result"
    },
    {
     "data": {
      "image/png": "[encoded data removed]",
      "text/plain": [
       "<Figure size 640x480 with 1 Axes>"
      ]
     },
     "metadata": {},
     "output_type": "display_data"
    }
   ],
   "source": [
    "plt.plot(J_history)\n",
    "plt.title(\"Loss evolution\")"
   ]
  },
  {
   "cell_type": "code",
   "execution_count": 250,
   "id": "98ed7f81-29d4-4c93-8e55-3075b802b73b",
   "metadata": {},
   "outputs": [],
   "source": [
    "def r2_score(y, y_):\n",
    "    num = np.sum((y-y_)**2)\n",
    "    denom = np.sum((y-y.mean())**2)\n",
    "    return 1 - num/denom\n",
    "    "
   ]
  },
  {
   "cell_type": "code",
   "execution_count": 251,
   "id": "5caa57eb-d1ae-468c-bc2d-70426c651185",
   "metadata": {},
   "outputs": [],
   "source": [
    "y_ = [ w_final * i + b_final for i in x_train]"
   ]
  },
  {
   "cell_type": "code",
   "execution_count": 252,
   "id": "2ba8da10-92e8-4521-b377-f02eefc5915e",
   "metadata": {},
   "outputs": [
    {
     "name": "stdout",
     "output_type": "stream",
     "text": [
      "[np.float64(1645.5082054772242), np.float64(2742.00837675258), np.float64(3290.258462390257), np.float64(4386.758633665613), np.float64(5483.258804940969)]\n"
     ]
    }
   ],
   "source": [
    "print(y_)"
   ]
  },
  {
   "cell_type": "code",
   "execution_count": 253,
   "id": "73fd6be1-4e38-4e3d-908f-cdb435d50405",
   "metadata": {},
   "outputs": [
    {
     "data": {
      "text/plain": [
       "np.float64(-7.78467570032457)"
      ]
     },
     "execution_count": 253,
     "metadata": {},
     "output_type": "execute_result"
    }
   ],
   "source": [
    "r2_score(y_train, y_)"
   ]
  },
  {
   "cell_type": "code",
   "execution_count": null,
   "id": "e506bbdf-d954-434f-9e4f-f21b1399f039",
   "metadata": {},
   "outputs": [],
   "source": []
  },
  {
   "cell_type": "markdown",
   "id": "6b10c99e-c7e2-424c-a36e-04688767430a",
   "metadata": {},
   "source": [
    "## Prediction"
   ]
  },
  {
   "cell_type": "code",
   "execution_count": null,
   "id": "b784cb29-62d1-462a-a7db-51ab9202f40f",
   "metadata": {},
   "outputs": [],
   "source": []
  },
  {
   "cell_type": "code",
   "execution_count": 254,
   "id": "d01834e6-972a-4ce8-960d-f8d9e49897d5",
   "metadata": {},
   "outputs": [
    {
     "name": "stdout",
     "output_type": "stream",
     "text": [
      "A house with size (m^2) 20 has a price of 1097.2581198395467$\n",
      "A house with size (m^2) 50 has a price of 2742.00837675258$\n",
      "A house with size (m^2) 60 has a price of 3290.258462390257$\n",
      "A house with size (m^2) 50 has a price of 2742.00837675258$\n",
      "A house with size (m^2) 80 has a price of 4386.758633665613$\n",
      "A house with size (m^2) 100 has a price of 5483.258804940969$\n",
      "A house with size (m^2) 120 has a price of 6579.758976216323$\n",
      "A house with size (m^2) 150 has a price of 8224.509233129356$\n"
     ]
    }
   ],
   "source": [
    "size_of_house = 20\n",
    "print(f\"A house with size (m^2) {size_of_house} has a price of {w_final * size_of_house + b_final}$\")   \n",
    "size_of_house = 50\n",
    "print(f\"A house with size (m^2) {size_of_house} has a price of {w_final * size_of_house + b_final}$\")   \n",
    "size_of_house = 60\n",
    "print(f\"A house with size (m^2) {size_of_house} has a price of {w_final * size_of_house + b_final}$\")   \n",
    "size_of_house = 50\n",
    "print(f\"A house with size (m^2) {size_of_house} has a price of {w_final * size_of_house + b_final}$\")   \n",
    "size_of_house = 80\n",
    "print(f\"A house with size (m^2) {size_of_house} has a price of {w_final * size_of_house + b_final}$\")   \n",
    "size_of_house = 100\n",
    "print(f\"A house with size (m^2) {size_of_house} has a price of {w_final * size_of_house + b_final}$\")   \n",
    "size_of_house = 120\n",
    "print(f\"A house with size (m^2) {size_of_house} has a price of {w_final * size_of_house + b_final}$\")   \n",
    "size_of_house = 150\n",
    "print(f\"A house with size (m^2) {size_of_house} has a price of {w_final * size_of_house + b_final}$\")   "
   ]
  },
  {
   "cell_type": "code",
   "execution_count": 255,
   "id": "9c80085f-c0e4-45b8-b926-dd850a005295",
   "metadata": {},
   "outputs": [
    {
     "data": {
      "text/plain": [
       "[<matplotlib.lines.Line2D at 0x246943af4d0>]"
      ]
     },
     "execution_count": 255,
     "metadata": {},
     "output_type": "execute_result"
    },
    {
     "data": {
      "image/png": "[encoded data removed]",
      "text/plain": [
       "<Figure size 640x480 with 1 Axes>"
      ]
     },
     "metadata": {},
     "output_type": "display_data"
    }
   ],
   "source": [
    "plt.scatter(x_train, y_train)\n",
    "plt.plot(x_train, w_final * x_train + b_final)"
   ]
  },
  {
   "cell_type": "code",
   "execution_count": null,
   "id": "ec424d21-5e90-4c45-aadc-d5e45617a82f",
   "metadata": {},
   "outputs": [],
   "source": []
  },
  {
   "cell_type": "code",
   "execution_count": null,
   "id": "ba3b3e5d-2962-4a53-abc0-85259a6fb73e",
   "metadata": {},
   "outputs": [],
   "source": []
  },
  {
   "cell_type": "code",
   "execution_count": null,
   "id": "3587515b-a708-44d1-8703-aff0af5b8400",
   "metadata": {},
   "outputs": [],
   "source": []
  },
  {
   "cell_type": "code",
   "execution_count": null,
   "id": "d5e67170-3a07-402f-9fba-ee8d8b1faa69",
   "metadata": {},
   "outputs": [],
   "source": []
  },
  {
   "cell_type": "code",
   "execution_count": null,
   "id": "511e6959-0fde-4c2a-8d1f-4d8ed44d6e4a",
   "metadata": {},
   "outputs": [],
   "source": []
  }
 ],
 "metadata": {
  "kernelspec": {
   "display_name": "Python 3 (ipykernel)",
   "language": "python",
   "name": "python3"
  },
  "language_info": {
   "codemirror_mode": {
    "name": "ipython",
    "version": 3
   },
   "file_extension": ".py",
   "mimetype": "text/x-python",
   "name": "python",
   "nbconvert_exporter": "python",
   "pygments_lexer": "ipython3",
   "version": "3.13.1"
  }
 },
 "nbformat": 4,
 "nbformat_minor": 5
}

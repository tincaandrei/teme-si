{
 "cells": [
  {
   "cell_type": "code",
   "execution_count": 1,
   "id": "f78eefb6-9879-4a11-8791-bf801175b70e",
   "metadata": {},
   "outputs": [
    {
     "name": "stdout",
     "output_type": "stream",
     "text": [
      "Requirement already satisfied: numpy in c:\\python313\\lib\\site-packages (2.2.5)\n",
      "Requirement already satisfied: pandas in c:\\python313\\lib\\site-packages (2.2.3)\n",
      "Requirement already satisfied: matplotlib in c:\\python313\\lib\\site-packages (3.10.1)\n",
      "Requirement already satisfied: python-dateutil>=2.8.2 in c:\\users\\andut\\appdata\\roaming\\python\\python313\\site-packages (from pandas) (2.9.0.post0)\n",
      "Requirement already satisfied: pytz>=2020.1 in c:\\python313\\lib\\site-packages (from pandas) (2025.2)\n",
      "Requirement already satisfied: tzdata>=2022.7 in c:\\python313\\lib\\site-packages (from pandas) (2025.2)\n",
      "Requirement already satisfied: contourpy>=1.0.1 in c:\\python313\\lib\\site-packages (from matplotlib) (1.3.2)\n",
      "Requirement already satisfied: cycler>=0.10 in c:\\python313\\lib\\site-packages (from matplotlib) (0.12.1)\n",
      "Requirement already satisfied: fonttools>=4.22.0 in c:\\python313\\lib\\site-packages (from matplotlib) (4.57.0)\n",
      "Requirement already satisfied: kiwisolver>=1.3.1 in c:\\python313\\lib\\site-packages (from matplotlib) (1.4.8)\n",
      "Requirement already satisfied: packaging>=20.0 in c:\\users\\andut\\appdata\\roaming\\python\\python313\\site-packages (from matplotlib) (25.0)\n",
      "Requirement already satisfied: pillow>=8 in c:\\python313\\lib\\site-packages (from matplotlib) (11.2.1)\n",
      "Requirement already satisfied: pyparsing>=2.3.1 in c:\\python313\\lib\\site-packages (from matplotlib) (3.2.3)\n",
      "Requirement already satisfied: six>=1.5 in c:\\users\\andut\\appdata\\roaming\\python\\python313\\site-packages (from python-dateutil>=2.8.2->pandas) (1.17.0)\n"
     ]
    }
   ],
   "source": [
    "!pip install numpy pandas matplotlib\n",
    "\n",
    "import numpy as np\n",
    "import pandas as pd\n",
    "import matplotlib.pyplot as plt\n",
    "import copy"
   ]
  },
  {
   "cell_type": "markdown",
   "id": "a2532aff-6f39-4a23-83bb-aaf3a343ba84",
   "metadata": {},
   "source": [
    "### Data preprocessing\n"
   ]
  },
  {
   "cell_type": "code",
   "execution_count": 2,
   "id": "06015e3e-5c09-4c13-971e-752c475bcdb2",
   "metadata": {},
   "outputs": [],
   "source": [
    "x_train = np.array([30,50,60,80,100])\n",
    "y_train = np.array([70000, 100000, 120000, 150000, 200000])  "
   ]
  },
  {
   "cell_type": "code",
   "execution_count": 3,
   "id": "676d2eca-2c0e-4ab0-9bb7-b2bc35118d35",
   "metadata": {},
   "outputs": [
    {
     "data": {
      "text/plain": [
       "array([ 30,  50,  60,  80, 100])"
      ]
     },
     "execution_count": 3,
     "metadata": {},
     "output_type": "execute_result"
    }
   ],
   "source": [
    "\n",
    "\n",
    "\n",
    "x_train"
   ]
  },
  {
   "cell_type": "code",
   "execution_count": 4,
   "id": "2d953b8e-1079-4efc-8998-6863530240c0",
   "metadata": {},
   "outputs": [
    {
     "data": {
      "text/plain": [
       "array([ 70000, 100000, 120000, 150000, 200000])"
      ]
     },
     "execution_count": 4,
     "metadata": {},
     "output_type": "execute_result"
    }
   ],
   "source": [
    "y_train\n"
   ]
  },
  {
   "cell_type": "code",
   "execution_count": 5,
   "id": "f9cdbb8c-2f61-420b-99b3-4f449e0b740f",
   "metadata": {},
   "outputs": [
    {
     "name": "stdout",
     "output_type": "stream",
     "text": [
      "30 70000\n",
      "50 100000\n",
      "60 120000\n",
      "80 150000\n",
      "100 200000\n"
     ]
    }
   ],
   "source": [
    "for i, j in zip(x_train,y_train):\n",
    "    print(i,j)"
   ]
  },
  {
   "cell_type": "code",
   "execution_count": 6,
   "id": "4f861cb1-d425-4c77-8b5d-e0d7db7e15fb",
   "metadata": {},
   "outputs": [
    {
     "data": {
      "text/plain": [
       "(np.int64(50), np.int64(100000))"
      ]
     },
     "execution_count": 6,
     "metadata": {},
     "output_type": "execute_result"
    }
   ],
   "source": [
    "x_train[1], y_train[1]\n"
   ]
  },
  {
   "cell_type": "code",
   "execution_count": 7,
   "id": "4877829d-059c-4dee-93fa-d49db81458b3",
   "metadata": {},
   "outputs": [
    {
     "data": {
      "text/plain": [
       "(5, 5)"
      ]
     },
     "execution_count": 7,
     "metadata": {},
     "output_type": "execute_result"
    }
   ],
   "source": [
    "len(x_train), len(y_train)"
   ]
  },
  {
   "cell_type": "code",
   "execution_count": 8,
   "id": "b392a681-43f0-44e7-b242-397f1a2cc84e",
   "metadata": {},
   "outputs": [
    {
     "data": {
      "text/plain": [
       "(array([ 30,  50,  60,  80, 100]),\n",
       " array([ 70000, 100000, 120000, 150000, 200000]))"
      ]
     },
     "execution_count": 8,
     "metadata": {},
     "output_type": "execute_result"
    }
   ],
   "source": [
    "x_train, y_train"
   ]
  },
  {
   "cell_type": "code",
   "execution_count": 9,
   "id": "150015c5-938e-4d70-b0a3-433bef96468c",
   "metadata": {},
   "outputs": [
    {
     "data": {
      "image/png": "[encoded data removed]",
      "text/plain": [
       "<Figure size 640x480 with 1 Axes>"
      ]
     },
     "metadata": {},
     "output_type": "display_data"
    }
   ],
   "source": [
    "plt.scatter(x_train, y_train)\n",
    "plt.show()"
   ]
  },
  {
   "cell_type": "markdown",
   "id": "0089b674-be9a-4b57-bcd4-e554558f251d",
   "metadata": {},
   "source": [
    "### Train"
   ]
  },
  {
   "cell_type": "code",
   "execution_count": 88,
   "id": "d64208b0-ab9f-4c9a-9c85-fbad7518eeee",
   "metadata": {},
   "outputs": [],
   "source": [
    "def compute_cost(x, y, w, b):\n",
    "    m = x.shape[0] \n",
    "    cost = 0\n",
    "    for i in range(m):\n",
    "        f_wb = w * x[i] + b\n",
    "        cost += (f_wb - y[i])**2\n",
    "    return cost / (2 * m) "
   ]
  },
  {
   "cell_type": "code",
   "execution_count": 89,
   "id": "11f5e704-c136-4b24-8822-64e2c7a84b6e",
   "metadata": {},
   "outputs": [
    {
     "data": {
      "text/plain": [
       "np.float64(9174090955.0)"
      ]
     },
     "execution_count": 89,
     "metadata": {},
     "output_type": "execute_result"
    }
   ],
   "source": [
    "compute_cost(x_train, y_train, 0.5, 10)"
   ]
  },
  {
   "cell_type": "code",
   "execution_count": 90,
   "id": "2265297e-55a6-4110-90c1-cf52b8bc9542",
   "metadata": {},
   "outputs": [],
   "source": [
    "def compute_gradients(x, y, w,b):\n",
    "    m = x.shape[0]\n",
    "    dj_dw = 0\n",
    "    dj_db = 0\n",
    "    for i in range(0,m):\n",
    "        f_wb = w * x[i] + b\n",
    "        dj_dw += (f_wb - y[i]) * x[i]\n",
    "        dj_db += (f_wb - y[i])\n",
    "\n",
    "    dj_dw = dj_dw / m\n",
    "    dj_db = dj_db / m\n",
    "\n",
    "    return float(dj_dw), float(dj_db)"
   ]
  },
  {
   "cell_type": "code",
   "execution_count": 91,
   "id": "c2d65eab-0e80-461b-9344-b125675d22ca",
   "metadata": {},
   "outputs": [
    {
     "data": {
      "text/plain": [
       "(-9213136.0, -127359.0)"
      ]
     },
     "execution_count": 91,
     "metadata": {},
     "output_type": "execute_result"
    }
   ],
   "source": [
    "compute_gradients(x_train, y_train, w = 10, b = 1)"
   ]
  },
  {
   "cell_type": "code",
   "execution_count": 96,
   "id": "b96d4a23-3f22-4905-9a60-28877ba3d415",
   "metadata": {},
   "outputs": [],
   "source": [
    "def gradient_descent(x, y, w_in, b_in, alpha, num_iterations, cost_function, gradient_function):\n",
    "    w = copy.deepcopy(w_in) \n",
    "    b = copy.deepcopy(b_in)\n",
    "    J_history = []\n",
    "    for i in range(num_iterations):\n",
    "        dj_dw, dj_db = gradient_function(x, y, w, b)\n",
    "\n",
    "        w = w - alpha * dj_dw\n",
    "        b = b - alpha * dj_db\n",
    "        cost = cost_function(x, y, w, b)\n",
    "        J_history.append(cost)\n",
    "\n",
    "        print(f\"Iteration: {i} | Cost: {cost:.3e} | dj_dw: {dj_dw:.3e} | dj_db: {dj_db:.3e} | w: {w:.3e} | b: {b:.3e}\")\n",
    "    \n",
    "    print(f\"\\n(w, b) found by gradient descent ({w:.3e}, {b:.3e})\")\n",
    "    return w, b, J_history"
   ]
  },
  {
   "cell_type": "code",
   "execution_count": 140,
   "id": "b21fd645-a501-48dc-b3b2-589fbd1b0154",
   "metadata": {},
   "outputs": [
    {
     "name": "stdout",
     "output_type": "stream",
     "text": [
      "Iteration: 0 | Cost: 1.516e+09 | dj_dw: -9.260e+06 | dj_db: -1.280e+05 | w: 2.778e+03 | b: 3.840e+01\n",
      "Iteration: 1 | Cost: 2.636e+08 | dj_dw: 3.743e+06 | dj_db: 4.983e+04 | w: 1.655e+03 | b: 2.345e+01\n",
      "Iteration: 2 | Cost: 5.888e+07 | dj_dw: -1.513e+06 | dj_db: -2.206e+04 | w: 2.109e+03 | b: 3.007e+01\n",
      "Iteration: 3 | Cost: 2.543e+07 | dj_dw: 6.118e+05 | dj_db: 7.003e+03 | w: 1.925e+03 | b: 2.797e+01\n",
      "Iteration: 4 | Cost: 1.996e+07 | dj_dw: -2.473e+05 | dj_db: -4.746e+03 | w: 2.000e+03 | b: 2.939e+01\n",
      "Iteration: 5 | Cost: 1.907e+07 | dj_dw: 1.000e+05 | dj_db: 3.701e+00 | w: 1.970e+03 | b: 2.939e+01\n",
      "Iteration: 6 | Cost: 1.892e+07 | dj_dw: -4.040e+04 | dj_db: -1.916e+03 | w: 1.982e+03 | b: 2.997e+01\n",
      "Iteration: 7 | Cost: 1.889e+07 | dj_dw: 1.636e+04 | dj_db: -1.140e+03 | w: 1.977e+03 | b: 3.031e+01\n",
      "Iteration: 8 | Cost: 1.889e+07 | dj_dw: -6.587e+03 | dj_db: -1.454e+03 | w: 1.979e+03 | b: 3.074e+01\n",
      "Iteration: 9 | Cost: 1.889e+07 | dj_dw: 2.689e+03 | dj_db: -1.327e+03 | w: 1.978e+03 | b: 3.114e+01\n",
      "Iteration: 10 | Cost: 1.889e+07 | dj_dw: -1.061e+03 | dj_db: -1.378e+03 | w: 1.978e+03 | b: 3.156e+01\n",
      "Iteration: 11 | Cost: 1.889e+07 | dj_dw: 4.551e+02 | dj_db: -1.357e+03 | w: 1.978e+03 | b: 3.196e+01\n",
      "Iteration: 12 | Cost: 1.889e+07 | dj_dw: -1.578e+02 | dj_db: -1.366e+03 | w: 1.978e+03 | b: 3.237e+01\n",
      "Iteration: 13 | Cost: 1.889e+07 | dj_dw: 8.997e+01 | dj_db: -1.362e+03 | w: 1.978e+03 | b: 3.278e+01\n",
      "Iteration: 14 | Cost: 1.889e+07 | dj_dw: -1.019e+01 | dj_db: -1.364e+03 | w: 1.978e+03 | b: 3.319e+01\n",
      "Iteration: 15 | Cost: 1.889e+07 | dj_dw: 3.030e+01 | dj_db: -1.363e+03 | w: 1.978e+03 | b: 3.360e+01\n",
      "Iteration: 16 | Cost: 1.889e+07 | dj_dw: 1.393e+01 | dj_db: -1.363e+03 | w: 1.978e+03 | b: 3.401e+01\n",
      "Iteration: 17 | Cost: 1.888e+07 | dj_dw: 2.055e+01 | dj_db: -1.363e+03 | w: 1.978e+03 | b: 3.442e+01\n",
      "Iteration: 18 | Cost: 1.888e+07 | dj_dw: 1.787e+01 | dj_db: -1.363e+03 | w: 1.978e+03 | b: 3.483e+01\n",
      "Iteration: 19 | Cost: 1.888e+07 | dj_dw: 1.895e+01 | dj_db: -1.363e+03 | w: 1.978e+03 | b: 3.523e+01\n",
      "\n",
      "(w, b) found by gradient descent (1.978e+03, 3.523e+01)\n"
     ]
    }
   ],
   "source": [
    "w_init = 0\n",
    "b_init = 0\n",
    "iterations = 20\n",
    "alpha = 3.0e-4\n",
    "w_final, b_final, J_history = gradient_descent(x=x_train, y=y_train,alpha=alpha, num_iterations = iterations,w_in=w_init,b_in=b_init,cost_function=compute_cost,gradient_function=compute_gradients) "
   ]
  },
  {
   "cell_type": "markdown",
   "id": "b1a551a1-bde9-4d59-9bb5-073c443ec477",
   "metadata": {},
   "source": [
    "## Metrics"
   ]
  },
  {
   "cell_type": "code",
   "execution_count": 141,
   "id": "f7147540-b4fe-4dfc-ad04-f15fd518bffd",
   "metadata": {},
   "outputs": [
    {
     "data": {
      "text/plain": [
       "[np.float64(1516077310.0799985),\n",
       " np.float64(263575550.75001973),\n",
       " np.float64(58880942.8086731),\n",
       " np.float64(25427599.256992),\n",
       " np.float64(19959911.864977896),\n",
       " np.float64(19065870.658561178),\n",
       " np.float64(18919292.371351305),\n",
       " np.float64(18894870.658259764),\n",
       " np.float64(18890412.812352978),\n",
       " np.float64(18889217.66078383),\n",
       " np.float64(18888555.760492597),\n",
       " np.float64(18887981.043438334),\n",
       " np.float64(18887420.609509654),\n",
       " np.float64(18886862.544767972),\n",
       " np.float64(18886304.90213696),\n",
       " np.float64(18885747.36340665),\n",
       " np.float64(18885189.876569975),\n",
       " np.float64(18884632.433124974),\n",
       " np.float64(18884075.031679444),\n",
       " np.float64(18883517.672003355)]"
      ]
     },
     "execution_count": 141,
     "metadata": {},
     "output_type": "execute_result"
    }
   ],
   "source": [
    "J_history\n"
   ]
  },
  {
   "cell_type": "code",
   "execution_count": 142,
   "id": "a6a701ed-8d4e-4e69-97e2-ca0a0971a87b",
   "metadata": {},
   "outputs": [
    {
     "data": {
      "text/plain": [
       "Text(0.5, 1.0, 'Loss evolution')"
      ]
     },
     "execution_count": 142,
     "metadata": {},
     "output_type": "execute_result"
    },
    {
     "data": {
      "image/png": "[encoded data removed]",
      "text/plain": [
       "<Figure size 640x480 with 1 Axes>"
      ]
     },
     "metadata": {},
     "output_type": "display_data"
    }
   ],
   "source": [
    "plt.plot(J_history)\n",
    "plt.title(\"Loss evolution\")"
   ]
  },
  {
   "cell_type": "code",
   "execution_count": 168,
   "id": "98ed7f81-29d4-4c93-8e55-3075b802b73b",
   "metadata": {},
   "outputs": [],
   "source": [
    "def r2_score(y, y_):\n",
    "    num = np.sum((y-y_)**2)\n",
    "    denom = np.sum((y-y.mean())**2)\n",
    "    return 1 - num/denom\n",
    "    "
   ]
  },
  {
   "cell_type": "code",
   "execution_count": 169,
   "id": "5caa57eb-d1ae-468c-bc2d-70426c651185",
   "metadata": {},
   "outputs": [],
   "source": [
    "y_ = [ w_final * i + b_final for i in x_train]"
   ]
  },
  {
   "cell_type": "code",
   "execution_count": 170,
   "id": "2ba8da10-92e8-4521-b377-f02eefc5915e",
   "metadata": {},
   "outputs": [
    {
     "name": "stdout",
     "output_type": "stream",
     "text": [
      "[np.float64(59379.87227105263), np.float64(98942.9642045718), np.float64(118724.51017133139), np.float64(158287.60210485058), np.float64(197850.69403836975)]\n"
     ]
    }
   ],
   "source": [
    "print(y_)"
   ]
  },
  {
   "cell_type": "code",
   "execution_count": 171,
   "id": "73fd6be1-4e38-4e3d-908f-cdb435d50405",
   "metadata": {},
   "outputs": [
    {
     "data": {
      "text/plain": [
       "np.float64(0.9808871278623448)"
      ]
     },
     "execution_count": 171,
     "metadata": {},
     "output_type": "execute_result"
    }
   ],
   "source": [
    "r2_score(y_train, y_)"
   ]
  },
  {
   "cell_type": "code",
   "execution_count": null,
   "id": "e506bbdf-d954-434f-9e4f-f21b1399f039",
   "metadata": {},
   "outputs": [],
   "source": []
  },
  {
   "cell_type": "markdown",
   "id": "6b10c99e-c7e2-424c-a36e-04688767430a",
   "metadata": {},
   "source": [
    "## Prediction"
   ]
  },
  {
   "cell_type": "code",
   "execution_count": 144,
   "id": "b784cb29-62d1-462a-a7db-51ab9202f40f",
   "metadata": {},
   "outputs": [],
   "source": [
    "x_train = np.array([30,50,60,80,100])\n",
    "y_train = np.array([70000, 100000, 120000, 150000, 200000])  "
   ]
  },
  {
   "cell_type": "code",
   "execution_count": 152,
   "id": "d01834e6-972a-4ce8-960d-f8d9e49897d5",
   "metadata": {},
   "outputs": [
    {
     "name": "stdout",
     "output_type": "stream",
     "text": [
      "A house with size (m^2) 20 has a price of 39598.32630429304$\n",
      "A house with size (m^2) 50 has a price of 98942.9642045718$\n",
      "A house with size (m^2) 60 has a price of 118724.51017133139$\n",
      "A house with size (m^2) 50 has a price of 98942.9642045718$\n",
      "A house with size (m^2) 80 has a price of 158287.60210485058$\n",
      "A house with size (m^2) 100 has a price of 197850.69403836975$\n",
      "A house with size (m^2) 120 has a price of 237413.78597188892$\n",
      "A house with size (m^2) 150 has a price of 296758.42387216765$\n"
     ]
    }
   ],
   "source": [
    "size_of_house = 20\n",
    "print(f\"A house with size (m^2) {size_of_house} has a price of {w_final * size_of_house + b_final}$\")   \n",
    "size_of_house = 50\n",
    "print(f\"A house with size (m^2) {size_of_house} has a price of {w_final * size_of_house + b_final}$\")   \n",
    "size_of_house = 60\n",
    "print(f\"A house with size (m^2) {size_of_house} has a price of {w_final * size_of_house + b_final}$\")   \n",
    "size_of_house = 50\n",
    "print(f\"A house with size (m^2) {size_of_house} has a price of {w_final * size_of_house + b_final}$\")   \n",
    "size_of_house = 80\n",
    "print(f\"A house with size (m^2) {size_of_house} has a price of {w_final * size_of_house + b_final}$\")   \n",
    "size_of_house = 100\n",
    "print(f\"A house with size (m^2) {size_of_house} has a price of {w_final * size_of_house + b_final}$\")   \n",
    "size_of_house = 120\n",
    "print(f\"A house with size (m^2) {size_of_house} has a price of {w_final * size_of_house + b_final}$\")   \n",
    "size_of_house = 150\n",
    "print(f\"A house with size (m^2) {size_of_house} has a price of {w_final * size_of_house + b_final}$\")   "
   ]
  },
  {
   "cell_type": "code",
   "execution_count": 153,
   "id": "9c80085f-c0e4-45b8-b926-dd850a005295",
   "metadata": {},
   "outputs": [
    {
     "data": {
      "text/plain": [
       "[<matplotlib.lines.Line2D at 0x24694139a90>]"
      ]
     },
     "execution_count": 153,
     "metadata": {},
     "output_type": "execute_result"
    },
    {
     "data": {
      "image/png": "[encoded data removed]",
      "text/plain": [
       "<Figure size 640x480 with 1 Axes>"
      ]
     },
     "metadata": {},
     "output_type": "display_data"
    }
   ],
   "source": [
    "plt.scatter(x_train, y_train)\n",
    "plt.plot(x_train, w_final * x_train + b_final)"
   ]
  },
  {
   "cell_type": "code",
   "execution_count": null,
   "id": "ec424d21-5e90-4c45-aadc-d5e45617a82f",
   "metadata": {},
   "outputs": [],
   "source": []
  }
 ],
 "metadata": {
  "kernelspec": {
   "display_name": "Python 3 (ipykernel)",
   "language": "python",
   "name": "python3"
  },
  "language_info": {
   "codemirror_mode": {
    "name": "ipython",
    "version": 3
   },
   "file_extension": ".py",
   "mimetype": "text/x-python",
   "name": "python",
   "nbconvert_exporter": "python",
   "pygments_lexer": "ipython3",
   "version": "3.13.1"
  }
 },
 "nbformat": 4,
 "nbformat_minor": 5
}
